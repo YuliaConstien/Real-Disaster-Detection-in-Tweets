{
  "cells": [
    {
      "cell_type": "code",
      "execution_count": 2,
      "metadata": {
        "id": "QmlUtSAraGzr"
      },
      "outputs": [],
      "source": [
        "#imports\n",
        "import pandas as pd\n",
        "import numpy as np\n",
        "import matplotlib.pyplot as plt\n",
        "\n",
        "import nltk\n",
        "import nltk\n",
        "from nltk.corpus import stopwords\n",
        "\n",
        "import re\n",
        "import string\n",
        "\n",
        "import keras\n",
        "from keras.layers import LSTM,Embedding,Dense,Bidirectional,GlobalMaxPool2D,BatchNormalization,Dropout,TimeDistributed,GlobalMaxPool1D\n",
        "from keras.preprocessing.sequence import pad_sequences\n",
        "from keras.models import Sequential,Model\n",
        "from tensorflow.keras import layers\n",
        "from keras.layers import SpatialDropout1D,GRU\n",
        "from keras.layers import Conv1D, Flatten, MaxPooling1D, Embedding, Dropout\n",
        "from keras.models import Model\n",
        "from keras.preprocessing.text import Tokenizer\n",
        "from tensorflow.keras.optimizers import Adam\n",
        "from keras_tuner.tuners import RandomSearch\n",
        "\n",
        "from sklearn.model_selection import train_test_split\n",
        "from sklearn.metrics import f1_score\n",
        "\n",
        "import matplotlib.pyplot as plt\n",
        "\n",
        "\n"
      ]
    },
    {
      "cell_type": "code",
      "source": [
        "#download data\n",
        "from google.colab import files\n",
        "uploaded = files.upload()"
      ],
      "metadata": {
        "id": "xD2xmIMZPoV9",
        "colab": {
          "resources": {
            "http://localhost:8080/nbextensions/google.colab/files.js": {
              "data": "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",
              "ok": true,
              "headers": [
                [
                  "content-type",
                  "application/javascript"
                ]
              ],
              "status": 200,
              "status_text": "OK"
            }
          },
          "base_uri": "https://localhost:8080/",
          "height": 77
        },
        "outputId": "5798e20b-9592-4055-9147-8dde57a8fc5a"
      },
      "execution_count": 3,
      "outputs": [
        {
          "output_type": "display_data",
          "data": {
            "text/plain": [
              "<IPython.core.display.HTML object>"
            ],
            "text/html": [
              "\n",
              "     <input type=\"file\" id=\"files-fad67922-d755-457f-8ad6-76e30920710f\" name=\"files[]\" multiple disabled\n",
              "        style=\"border:none\" />\n",
              "     <output id=\"result-fad67922-d755-457f-8ad6-76e30920710f\">\n",
              "      Upload widget is only available when the cell has been executed in the\n",
              "      current browser session. Please rerun this cell to enable.\n",
              "      </output>\n",
              "      <script src=\"/nbextensions/google.colab/files.js\"></script> "
            ]
          },
          "metadata": {}
        },
        {
          "output_type": "stream",
          "name": "stdout",
          "text": [
            "Saving train.csv to train.csv\n"
          ]
        }
      ]
    },
    {
      "cell_type": "code",
      "execution_count": 4,
      "metadata": {
        "id": "no3vfnOJaGzu"
      },
      "outputs": [],
      "source": [
        "#reading the data \n",
        "data_train = pd.read_csv('/content/train.csv')\n"
      ]
    },
    {
      "cell_type": "code",
      "execution_count": 5,
      "metadata": {
        "id": "8CmK0KkIaGzy",
        "colab": {
          "base_uri": "https://localhost:8080/",
          "height": 206
        },
        "outputId": "f40c6e16-199b-4fcd-e00f-7ee51b90bf60"
      },
      "outputs": [
        {
          "output_type": "execute_result",
          "data": {
            "text/plain": [
              "   id keyword location                                               text  \\\n",
              "0   1     NaN      NaN  Our Deeds are the Reason of this #earthquake M...   \n",
              "1   4     NaN      NaN             Forest fire near La Ronge Sask. Canada   \n",
              "2   5     NaN      NaN  All residents asked to 'shelter in place' are ...   \n",
              "3   6     NaN      NaN  13,000 people receive #wildfires evacuation or...   \n",
              "4   7     NaN      NaN  Just got sent this photo from Ruby #Alaska as ...   \n",
              "\n",
              "   target  \n",
              "0       1  \n",
              "1       1  \n",
              "2       1  \n",
              "3       1  \n",
              "4       1  "
            ],
            "text/html": [
              "\n",
              "  <div id=\"df-f4480d1b-6bb3-4f27-b51c-527c2cdacd32\">\n",
              "    <div class=\"colab-df-container\">\n",
              "      <div>\n",
              "<style scoped>\n",
              "    .dataframe tbody tr th:only-of-type {\n",
              "        vertical-align: middle;\n",
              "    }\n",
              "\n",
              "    .dataframe tbody tr th {\n",
              "        vertical-align: top;\n",
              "    }\n",
              "\n",
              "    .dataframe thead th {\n",
              "        text-align: right;\n",
              "    }\n",
              "</style>\n",
              "<table border=\"1\" class=\"dataframe\">\n",
              "  <thead>\n",
              "    <tr style=\"text-align: right;\">\n",
              "      <th></th>\n",
              "      <th>id</th>\n",
              "      <th>keyword</th>\n",
              "      <th>location</th>\n",
              "      <th>text</th>\n",
              "      <th>target</th>\n",
              "    </tr>\n",
              "  </thead>\n",
              "  <tbody>\n",
              "    <tr>\n",
              "      <th>0</th>\n",
              "      <td>1</td>\n",
              "      <td>NaN</td>\n",
              "      <td>NaN</td>\n",
              "      <td>Our Deeds are the Reason of this #earthquake M...</td>\n",
              "      <td>1</td>\n",
              "    </tr>\n",
              "    <tr>\n",
              "      <th>1</th>\n",
              "      <td>4</td>\n",
              "      <td>NaN</td>\n",
              "      <td>NaN</td>\n",
              "      <td>Forest fire near La Ronge Sask. Canada</td>\n",
              "      <td>1</td>\n",
              "    </tr>\n",
              "    <tr>\n",
              "      <th>2</th>\n",
              "      <td>5</td>\n",
              "      <td>NaN</td>\n",
              "      <td>NaN</td>\n",
              "      <td>All residents asked to 'shelter in place' are ...</td>\n",
              "      <td>1</td>\n",
              "    </tr>\n",
              "    <tr>\n",
              "      <th>3</th>\n",
              "      <td>6</td>\n",
              "      <td>NaN</td>\n",
              "      <td>NaN</td>\n",
              "      <td>13,000 people receive #wildfires evacuation or...</td>\n",
              "      <td>1</td>\n",
              "    </tr>\n",
              "    <tr>\n",
              "      <th>4</th>\n",
              "      <td>7</td>\n",
              "      <td>NaN</td>\n",
              "      <td>NaN</td>\n",
              "      <td>Just got sent this photo from Ruby #Alaska as ...</td>\n",
              "      <td>1</td>\n",
              "    </tr>\n",
              "  </tbody>\n",
              "</table>\n",
              "</div>\n",
              "      <button class=\"colab-df-convert\" onclick=\"convertToInteractive('df-f4480d1b-6bb3-4f27-b51c-527c2cdacd32')\"\n",
              "              title=\"Convert this dataframe to an interactive table.\"\n",
              "              style=\"display:none;\">\n",
              "        \n",
              "  <svg xmlns=\"http://www.w3.org/2000/svg\" height=\"24px\"viewBox=\"0 0 24 24\"\n",
              "       width=\"24px\">\n",
              "    <path d=\"M0 0h24v24H0V0z\" fill=\"none\"/>\n",
              "    <path d=\"M18.56 5.44l.94 2.06.94-2.06 2.06-.94-2.06-.94-.94-2.06-.94 2.06-2.06.94zm-11 1L8.5 8.5l.94-2.06 2.06-.94-2.06-.94L8.5 2.5l-.94 2.06-2.06.94zm10 10l.94 2.06.94-2.06 2.06-.94-2.06-.94-.94-2.06-.94 2.06-2.06.94z\"/><path d=\"M17.41 7.96l-1.37-1.37c-.4-.4-.92-.59-1.43-.59-.52 0-1.04.2-1.43.59L10.3 9.45l-7.72 7.72c-.78.78-.78 2.05 0 2.83L4 21.41c.39.39.9.59 1.41.59.51 0 1.02-.2 1.41-.59l7.78-7.78 2.81-2.81c.8-.78.8-2.07 0-2.86zM5.41 20L4 18.59l7.72-7.72 1.47 1.35L5.41 20z\"/>\n",
              "  </svg>\n",
              "      </button>\n",
              "      \n",
              "  <style>\n",
              "    .colab-df-container {\n",
              "      display:flex;\n",
              "      flex-wrap:wrap;\n",
              "      gap: 12px;\n",
              "    }\n",
              "\n",
              "    .colab-df-convert {\n",
              "      background-color: #E8F0FE;\n",
              "      border: none;\n",
              "      border-radius: 50%;\n",
              "      cursor: pointer;\n",
              "      display: none;\n",
              "      fill: #1967D2;\n",
              "      height: 32px;\n",
              "      padding: 0 0 0 0;\n",
              "      width: 32px;\n",
              "    }\n",
              "\n",
              "    .colab-df-convert:hover {\n",
              "      background-color: #E2EBFA;\n",
              "      box-shadow: 0px 1px 2px rgba(60, 64, 67, 0.3), 0px 1px 3px 1px rgba(60, 64, 67, 0.15);\n",
              "      fill: #174EA6;\n",
              "    }\n",
              "\n",
              "    [theme=dark] .colab-df-convert {\n",
              "      background-color: #3B4455;\n",
              "      fill: #D2E3FC;\n",
              "    }\n",
              "\n",
              "    [theme=dark] .colab-df-convert:hover {\n",
              "      background-color: #434B5C;\n",
              "      box-shadow: 0px 1px 3px 1px rgba(0, 0, 0, 0.15);\n",
              "      filter: drop-shadow(0px 1px 2px rgba(0, 0, 0, 0.3));\n",
              "      fill: #FFFFFF;\n",
              "    }\n",
              "  </style>\n",
              "\n",
              "      <script>\n",
              "        const buttonEl =\n",
              "          document.querySelector('#df-f4480d1b-6bb3-4f27-b51c-527c2cdacd32 button.colab-df-convert');\n",
              "        buttonEl.style.display =\n",
              "          google.colab.kernel.accessAllowed ? 'block' : 'none';\n",
              "\n",
              "        async function convertToInteractive(key) {\n",
              "          const element = document.querySelector('#df-f4480d1b-6bb3-4f27-b51c-527c2cdacd32');\n",
              "          const dataTable =\n",
              "            await google.colab.kernel.invokeFunction('convertToInteractive',\n",
              "                                                     [key], {});\n",
              "          if (!dataTable) return;\n",
              "\n",
              "          const docLinkHtml = 'Like what you see? Visit the ' +\n",
              "            '<a target=\"_blank\" href=https://colab.research.google.com/notebooks/data_table.ipynb>data table notebook</a>'\n",
              "            + ' to learn more about interactive tables.';\n",
              "          element.innerHTML = '';\n",
              "          dataTable['output_type'] = 'display_data';\n",
              "          await google.colab.output.renderOutput(dataTable, element);\n",
              "          const docLink = document.createElement('div');\n",
              "          docLink.innerHTML = docLinkHtml;\n",
              "          element.appendChild(docLink);\n",
              "        }\n",
              "      </script>\n",
              "    </div>\n",
              "  </div>\n",
              "  "
            ]
          },
          "metadata": {},
          "execution_count": 5
        }
      ],
      "source": [
        "#explore data\n",
        "data_train.head()"
      ]
    },
    {
      "cell_type": "code",
      "execution_count": 6,
      "metadata": {
        "colab": {
          "base_uri": "https://localhost:8080/"
        },
        "id": "mOOWCIigaGz1",
        "outputId": "8c72974a-f5ae-47f7-81fb-613e0bba454b"
      },
      "outputs": [
        {
          "output_type": "execute_result",
          "data": {
            "text/plain": [
              "(7613, 5)"
            ]
          },
          "metadata": {},
          "execution_count": 6
        }
      ],
      "source": [
        "data_train.shape"
      ]
    },
    {
      "cell_type": "code",
      "source": [
        "# Count labels to see if the datset is imbalanced \n",
        "data_train['target'].value_counts()\n",
        "\n",
        "#relatively balanced data"
      ],
      "metadata": {
        "colab": {
          "base_uri": "https://localhost:8080/"
        },
        "id": "IuVncmrBaymu",
        "outputId": "408c505a-0843-46d0-ffeb-78f0ce21af16"
      },
      "execution_count": 7,
      "outputs": [
        {
          "output_type": "execute_result",
          "data": {
            "text/plain": [
              "0    4342\n",
              "1    3271\n",
              "Name: target, dtype: int64"
            ]
          },
          "metadata": {},
          "execution_count": 7
        }
      ]
    },
    {
      "cell_type": "code",
      "source": [
        "# Plot target values\n",
        "import seaborn as sns\n",
        "sns.countplot(x = 'target', data = data_train)"
      ],
      "metadata": {
        "colab": {
          "base_uri": "https://localhost:8080/",
          "height": 297
        },
        "id": "QGdIyvhVwMgM",
        "outputId": "2d8add38-235e-4d0c-84ea-01861195605c"
      },
      "execution_count": 8,
      "outputs": [
        {
          "output_type": "execute_result",
          "data": {
            "text/plain": [
              "<matplotlib.axes._subplots.AxesSubplot at 0x7f34d44e4c50>"
            ]
          },
          "metadata": {},
          "execution_count": 8
        },
        {
          "output_type": "display_data",
          "data": {
            "text/plain": [
              "<Figure size 432x288 with 1 Axes>"
            ],
            "image/png": "[encoded data removed]"
          },
          "metadata": {
            "needs_background": "light"
          }
        }
      ]
    },
    {
      "cell_type": "code",
      "execution_count": 9,
      "metadata": {
        "colab": {
          "base_uri": "https://localhost:8080/",
          "height": 206
        },
        "id": "1w5FF2SKaGz5",
        "outputId": "d53a3f0b-9be3-499f-f61c-acd928610b10"
      },
      "outputs": [
        {
          "output_type": "execute_result",
          "data": {
            "text/plain": [
              "   id                                               text  target\n",
              "0   1  Our Deeds are the Reason of this #earthquake M...       1\n",
              "1   4             Forest fire near La Ronge Sask. Canada       1\n",
              "2   5  All residents asked to 'shelter in place' are ...       1\n",
              "3   6  13,000 people receive #wildfires evacuation or...       1\n",
              "4   7  Just got sent this photo from Ruby #Alaska as ...       1"
            ],
            "text/html": [
              "\n",
              "  <div id=\"df-f52d6e3e-970c-46ce-81bb-9004ed48e0b8\">\n",
              "    <div class=\"colab-df-container\">\n",
              "      <div>\n",
              "<style scoped>\n",
              "    .dataframe tbody tr th:only-of-type {\n",
              "        vertical-align: middle;\n",
              "    }\n",
              "\n",
              "    .dataframe tbody tr th {\n",
              "        vertical-align: top;\n",
              "    }\n",
              "\n",
              "    .dataframe thead th {\n",
              "        text-align: right;\n",
              "    }\n",
              "</style>\n",
              "<table border=\"1\" class=\"dataframe\">\n",
              "  <thead>\n",
              "    <tr style=\"text-align: right;\">\n",
              "      <th></th>\n",
              "      <th>id</th>\n",
              "      <th>text</th>\n",
              "      <th>target</th>\n",
              "    </tr>\n",
              "  </thead>\n",
              "  <tbody>\n",
              "    <tr>\n",
              "      <th>0</th>\n",
              "      <td>1</td>\n",
              "      <td>Our Deeds are the Reason of this #earthquake M...</td>\n",
              "      <td>1</td>\n",
              "    </tr>\n",
              "    <tr>\n",
              "      <th>1</th>\n",
              "      <td>4</td>\n",
              "      <td>Forest fire near La Ronge Sask. Canada</td>\n",
              "      <td>1</td>\n",
              "    </tr>\n",
              "    <tr>\n",
              "      <th>2</th>\n",
              "      <td>5</td>\n",
              "      <td>All residents asked to 'shelter in place' are ...</td>\n",
              "      <td>1</td>\n",
              "    </tr>\n",
              "    <tr>\n",
              "      <th>3</th>\n",
              "      <td>6</td>\n",
              "      <td>13,000 people receive #wildfires evacuation or...</td>\n",
              "      <td>1</td>\n",
              "    </tr>\n",
              "    <tr>\n",
              "      <th>4</th>\n",
              "      <td>7</td>\n",
              "      <td>Just got sent this photo from Ruby #Alaska as ...</td>\n",
              "      <td>1</td>\n",
              "    </tr>\n",
              "  </tbody>\n",
              "</table>\n",
              "</div>\n",
              "      <button class=\"colab-df-convert\" onclick=\"convertToInteractive('df-f52d6e3e-970c-46ce-81bb-9004ed48e0b8')\"\n",
              "              title=\"Convert this dataframe to an interactive table.\"\n",
              "              style=\"display:none;\">\n",
              "        \n",
              "  <svg xmlns=\"http://www.w3.org/2000/svg\" height=\"24px\"viewBox=\"0 0 24 24\"\n",
              "       width=\"24px\">\n",
              "    <path d=\"M0 0h24v24H0V0z\" fill=\"none\"/>\n",
              "    <path d=\"M18.56 5.44l.94 2.06.94-2.06 2.06-.94-2.06-.94-.94-2.06-.94 2.06-2.06.94zm-11 1L8.5 8.5l.94-2.06 2.06-.94-2.06-.94L8.5 2.5l-.94 2.06-2.06.94zm10 10l.94 2.06.94-2.06 2.06-.94-2.06-.94-.94-2.06-.94 2.06-2.06.94z\"/><path d=\"M17.41 7.96l-1.37-1.37c-.4-.4-.92-.59-1.43-.59-.52 0-1.04.2-1.43.59L10.3 9.45l-7.72 7.72c-.78.78-.78 2.05 0 2.83L4 21.41c.39.39.9.59 1.41.59.51 0 1.02-.2 1.41-.59l7.78-7.78 2.81-2.81c.8-.78.8-2.07 0-2.86zM5.41 20L4 18.59l7.72-7.72 1.47 1.35L5.41 20z\"/>\n",
              "  </svg>\n",
              "      </button>\n",
              "      \n",
              "  <style>\n",
              "    .colab-df-container {\n",
              "      display:flex;\n",
              "      flex-wrap:wrap;\n",
              "      gap: 12px;\n",
              "    }\n",
              "\n",
              "    .colab-df-convert {\n",
              "      background-color: #E8F0FE;\n",
              "      border: none;\n",
              "      border-radius: 50%;\n",
              "      cursor: pointer;\n",
              "      display: none;\n",
              "      fill: #1967D2;\n",
              "      height: 32px;\n",
              "      padding: 0 0 0 0;\n",
              "      width: 32px;\n",
              "    }\n",
              "\n",
              "    .colab-df-convert:hover {\n",
              "      background-color: #E2EBFA;\n",
              "      box-shadow: 0px 1px 2px rgba(60, 64, 67, 0.3), 0px 1px 3px 1px rgba(60, 64, 67, 0.15);\n",
              "      fill: #174EA6;\n",
              "    }\n",
              "\n",
              "    [theme=dark] .colab-df-convert {\n",
              "      background-color: #3B4455;\n",
              "      fill: #D2E3FC;\n",
              "    }\n",
              "\n",
              "    [theme=dark] .colab-df-convert:hover {\n",
              "      background-color: #434B5C;\n",
              "      box-shadow: 0px 1px 3px 1px rgba(0, 0, 0, 0.15);\n",
              "      filter: drop-shadow(0px 1px 2px rgba(0, 0, 0, 0.3));\n",
              "      fill: #FFFFFF;\n",
              "    }\n",
              "  </style>\n",
              "\n",
              "      <script>\n",
              "        const buttonEl =\n",
              "          document.querySelector('#df-f52d6e3e-970c-46ce-81bb-9004ed48e0b8 button.colab-df-convert');\n",
              "        buttonEl.style.display =\n",
              "          google.colab.kernel.accessAllowed ? 'block' : 'none';\n",
              "\n",
              "        async function convertToInteractive(key) {\n",
              "          const element = document.querySelector('#df-f52d6e3e-970c-46ce-81bb-9004ed48e0b8');\n",
              "          const dataTable =\n",
              "            await google.colab.kernel.invokeFunction('convertToInteractive',\n",
              "                                                     [key], {});\n",
              "          if (!dataTable) return;\n",
              "\n",
              "          const docLinkHtml = 'Like what you see? Visit the ' +\n",
              "            '<a target=\"_blank\" href=https://colab.research.google.com/notebooks/data_table.ipynb>data table notebook</a>'\n",
              "            + ' to learn more about interactive tables.';\n",
              "          element.innerHTML = '';\n",
              "          dataTable['output_type'] = 'display_data';\n",
              "          await google.colab.output.renderOutput(dataTable, element);\n",
              "          const docLink = document.createElement('div');\n",
              "          docLink.innerHTML = docLinkHtml;\n",
              "          element.appendChild(docLink);\n",
              "        }\n",
              "      </script>\n",
              "    </div>\n",
              "  </div>\n",
              "  "
            ]
          },
          "metadata": {},
          "execution_count": 9
        }
      ],
      "source": [
        "# 1. Preprocessing \n",
        "\n",
        "#drop unnecessary cols \n",
        "\n",
        "data_train_new = data_train.drop(['keyword', 'location'], axis=1)\n",
        "\n",
        "data_train_new.head()"
      ]
    },
    {
      "cell_type": "code",
      "source": [
        "# function to clean text \n",
        "\n",
        "def clean_text(text):\n",
        "    '''Make text lowercase, remove text in square brackets,remove links,remove punctuation\n",
        "    and remove words containing numbers.'''\n",
        "    text = text.lower()\n",
        "    text = re.sub('\\[.*?\\]', '', text)\n",
        "    text = re.sub('https?://\\S+|www\\.\\S+', '', text)\n",
        "    text = re.sub('<.*?>+', '', text)\n",
        "    text = re.sub('[%s]' % re.escape(string.punctuation), '', text)\n",
        "    text = re.sub('\\n', '', text)\n",
        "    text = re.sub('\\w*\\d\\w*', '', text)\n",
        "    return text\n",
        "\n"
      ],
      "metadata": {
        "id": "uNqK55PBcgwj"
      },
      "execution_count": 10,
      "outputs": []
    },
    {
      "cell_type": "code",
      "source": [
        "# apply the cleaning function to the dataset\n",
        "data_train_new.text = data_train_new.text.apply(lambda x: clean_text(x))\n",
        "\n"
      ],
      "metadata": {
        "id": "B7IV5Ob7cgzd"
      },
      "execution_count": 11,
      "outputs": []
    },
    {
      "cell_type": "code",
      "source": [
        "#function to remove emojis\n",
        "def remove_emoji(text):\n",
        "    emoji_pattern = re.compile(\"[\"\n",
        "                           u\"\\U0001F600-\\U0001F64F\"  # emoticons\n",
        "                           u\"\\U0001F300-\\U0001F5FF\"  # symbols & pictographs\n",
        "                           u\"\\U0001F680-\\U0001F6FF\"  # transport & map symbols\n",
        "                           u\"\\U0001F1E0-\\U0001F1FF\"  # flags (iOS)\n",
        "                           u\"\\U00002702-\\U000027B0\"\n",
        "                           u\"\\U000024C2-\\U0001F251\"\n",
        "                           \"]+\", flags=re.UNICODE)\n",
        "    return emoji_pattern.sub(r'', text)\n"
      ],
      "metadata": {
        "id": "RkZJKASbcg2h"
      },
      "execution_count": 12,
      "outputs": []
    },
    {
      "cell_type": "code",
      "source": [
        "# apply the function to the dataset\n",
        "\n",
        "data_train_new['text']= data_train_new['text'].apply(lambda x: remove_emoji(x))\n"
      ],
      "metadata": {
        "id": "3T6Z22-Gcg5l"
      },
      "execution_count": 13,
      "outputs": []
    },
    {
      "cell_type": "code",
      "source": [
        "#remove stop words \n",
        "nltk.download('stopwords')\n",
        "\n",
        "stop = set(stopwords.words(\"english\"))\n",
        "\n",
        "def remove_stopwords(text):\n",
        "    filtered_words = [word.lower() for word in text.split() if word.lower() not in stop]\n",
        "    return \" \".join(filtered_words)\n",
        "\n",
        "\n",
        "data_train_new[\"text\"] = data_train_new[\"text\"].map(remove_stopwords)"
      ],
      "metadata": {
        "colab": {
          "base_uri": "https://localhost:8080/"
        },
        "id": "s_D7bW19hrjH",
        "outputId": "4668884a-414c-44d7-fee7-fccca85c5d6a"
      },
      "execution_count": 14,
      "outputs": [
        {
          "output_type": "stream",
          "name": "stdout",
          "text": [
            "[nltk_data] Downloading package stopwords to /root/nltk_data...\n",
            "[nltk_data]   Unzipping corpora/stopwords.zip.\n"
          ]
        }
      ]
    },
    {
      "cell_type": "code",
      "source": [
        "data_train_new.head()"
      ],
      "metadata": {
        "colab": {
          "base_uri": "https://localhost:8080/",
          "height": 206
        },
        "id": "k1eZ-hK8hrmU",
        "outputId": "86df0aed-18af-4257-be52-ffafbebfc3ff"
      },
      "execution_count": 15,
      "outputs": [
        {
          "output_type": "execute_result",
          "data": {
            "text/plain": [
              "   id                                               text  target\n",
              "0   1       deeds reason earthquake may allah forgive us       1\n",
              "1   4              forest fire near la ronge sask canada       1\n",
              "2   5  residents asked shelter place notified officer...       1\n",
              "3   6  people receive wildfires evacuation orders cal...       1\n",
              "4   7  got sent photo ruby alaska smoke wildfires pou...       1"
            ],
            "text/html": [
              "\n",
              "  <div id=\"df-471aff25-6be8-40a2-a27e-2ecc48d5f6fe\">\n",
              "    <div class=\"colab-df-container\">\n",
              "      <div>\n",
              "<style scoped>\n",
              "    .dataframe tbody tr th:only-of-type {\n",
              "        vertical-align: middle;\n",
              "    }\n",
              "\n",
              "    .dataframe tbody tr th {\n",
              "        vertical-align: top;\n",
              "    }\n",
              "\n",
              "    .dataframe thead th {\n",
              "        text-align: right;\n",
              "    }\n",
              "</style>\n",
              "<table border=\"1\" class=\"dataframe\">\n",
              "  <thead>\n",
              "    <tr style=\"text-align: right;\">\n",
              "      <th></th>\n",
              "      <th>id</th>\n",
              "      <th>text</th>\n",
              "      <th>target</th>\n",
              "    </tr>\n",
              "  </thead>\n",
              "  <tbody>\n",
              "    <tr>\n",
              "      <th>0</th>\n",
              "      <td>1</td>\n",
              "      <td>deeds reason earthquake may allah forgive us</td>\n",
              "      <td>1</td>\n",
              "    </tr>\n",
              "    <tr>\n",
              "      <th>1</th>\n",
              "      <td>4</td>\n",
              "      <td>forest fire near la ronge sask canada</td>\n",
              "      <td>1</td>\n",
              "    </tr>\n",
              "    <tr>\n",
              "      <th>2</th>\n",
              "      <td>5</td>\n",
              "      <td>residents asked shelter place notified officer...</td>\n",
              "      <td>1</td>\n",
              "    </tr>\n",
              "    <tr>\n",
              "      <th>3</th>\n",
              "      <td>6</td>\n",
              "      <td>people receive wildfires evacuation orders cal...</td>\n",
              "      <td>1</td>\n",
              "    </tr>\n",
              "    <tr>\n",
              "      <th>4</th>\n",
              "      <td>7</td>\n",
              "      <td>got sent photo ruby alaska smoke wildfires pou...</td>\n",
              "      <td>1</td>\n",
              "    </tr>\n",
              "  </tbody>\n",
              "</table>\n",
              "</div>\n",
              "      <button class=\"colab-df-convert\" onclick=\"convertToInteractive('df-471aff25-6be8-40a2-a27e-2ecc48d5f6fe')\"\n",
              "              title=\"Convert this dataframe to an interactive table.\"\n",
              "              style=\"display:none;\">\n",
              "        \n",
              "  <svg xmlns=\"http://www.w3.org/2000/svg\" height=\"24px\"viewBox=\"0 0 24 24\"\n",
              "       width=\"24px\">\n",
              "    <path d=\"M0 0h24v24H0V0z\" fill=\"none\"/>\n",
              "    <path d=\"M18.56 5.44l.94 2.06.94-2.06 2.06-.94-2.06-.94-.94-2.06-.94 2.06-2.06.94zm-11 1L8.5 8.5l.94-2.06 2.06-.94-2.06-.94L8.5 2.5l-.94 2.06-2.06.94zm10 10l.94 2.06.94-2.06 2.06-.94-2.06-.94-.94-2.06-.94 2.06-2.06.94z\"/><path d=\"M17.41 7.96l-1.37-1.37c-.4-.4-.92-.59-1.43-.59-.52 0-1.04.2-1.43.59L10.3 9.45l-7.72 7.72c-.78.78-.78 2.05 0 2.83L4 21.41c.39.39.9.59 1.41.59.51 0 1.02-.2 1.41-.59l7.78-7.78 2.81-2.81c.8-.78.8-2.07 0-2.86zM5.41 20L4 18.59l7.72-7.72 1.47 1.35L5.41 20z\"/>\n",
              "  </svg>\n",
              "      </button>\n",
              "      \n",
              "  <style>\n",
              "    .colab-df-container {\n",
              "      display:flex;\n",
              "      flex-wrap:wrap;\n",
              "      gap: 12px;\n",
              "    }\n",
              "\n",
              "    .colab-df-convert {\n",
              "      background-color: #E8F0FE;\n",
              "      border: none;\n",
              "      border-radius: 50%;\n",
              "      cursor: pointer;\n",
              "      display: none;\n",
              "      fill: #1967D2;\n",
              "      height: 32px;\n",
              "      padding: 0 0 0 0;\n",
              "      width: 32px;\n",
              "    }\n",
              "\n",
              "    .colab-df-convert:hover {\n",
              "      background-color: #E2EBFA;\n",
              "      box-shadow: 0px 1px 2px rgba(60, 64, 67, 0.3), 0px 1px 3px 1px rgba(60, 64, 67, 0.15);\n",
              "      fill: #174EA6;\n",
              "    }\n",
              "\n",
              "    [theme=dark] .colab-df-convert {\n",
              "      background-color: #3B4455;\n",
              "      fill: #D2E3FC;\n",
              "    }\n",
              "\n",
              "    [theme=dark] .colab-df-convert:hover {\n",
              "      background-color: #434B5C;\n",
              "      box-shadow: 0px 1px 3px 1px rgba(0, 0, 0, 0.15);\n",
              "      filter: drop-shadow(0px 1px 2px rgba(0, 0, 0, 0.3));\n",
              "      fill: #FFFFFF;\n",
              "    }\n",
              "  </style>\n",
              "\n",
              "      <script>\n",
              "        const buttonEl =\n",
              "          document.querySelector('#df-471aff25-6be8-40a2-a27e-2ecc48d5f6fe button.colab-df-convert');\n",
              "        buttonEl.style.display =\n",
              "          google.colab.kernel.accessAllowed ? 'block' : 'none';\n",
              "\n",
              "        async function convertToInteractive(key) {\n",
              "          const element = document.querySelector('#df-471aff25-6be8-40a2-a27e-2ecc48d5f6fe');\n",
              "          const dataTable =\n",
              "            await google.colab.kernel.invokeFunction('convertToInteractive',\n",
              "                                                     [key], {});\n",
              "          if (!dataTable) return;\n",
              "\n",
              "          const docLinkHtml = 'Like what you see? Visit the ' +\n",
              "            '<a target=\"_blank\" href=https://colab.research.google.com/notebooks/data_table.ipynb>data table notebook</a>'\n",
              "            + ' to learn more about interactive tables.';\n",
              "          element.innerHTML = '';\n",
              "          dataTable['output_type'] = 'display_data';\n",
              "          await google.colab.output.renderOutput(dataTable, element);\n",
              "          const docLink = document.createElement('div');\n",
              "          docLink.innerHTML = docLinkHtml;\n",
              "          element.appendChild(docLink);\n",
              "        }\n",
              "      </script>\n",
              "    </div>\n",
              "  </div>\n",
              "  "
            ]
          },
          "metadata": {},
          "execution_count": 15
        }
      ]
    },
    {
      "cell_type": "code",
      "source": [
        "#make a copy\n",
        "tweets= data_train_new['text'].copy()"
      ],
      "metadata": {
        "id": "dxp38KVAhrzV"
      },
      "execution_count": 16,
      "outputs": []
    },
    {
      "cell_type": "code",
      "source": [
        "# Tokenize data \n",
        "t = Tokenizer()\n",
        "t.fit_on_texts(tweets)\n",
        "vocab_size_train = len(t.word_index) + 1\n",
        "# integer encode the documents\n",
        "encoded_docs = t.texts_to_sequences(tweets)\n",
        "# pad documents to a max length\n",
        "max_length = 100\n",
        "padded_docs = pad_sequences(encoded_docs, maxlen=max_length, padding='post')\n",
        "\n",
        "tweets= padded_docs\n"
      ],
      "metadata": {
        "id": "5oXwkpAhMZdL"
      },
      "execution_count": 17,
      "outputs": []
    },
    {
      "cell_type": "code",
      "source": [
        "#!wget http://nlp.stanford.edu/data/glove.6B.zip"
      ],
      "metadata": {
        "id": "OsC0MzdT_lSr",
        "colab": {
          "base_uri": "https://localhost:8080/"
        },
        "outputId": "e2214ade-d0f3-4897-ac88-fe05c3794441"
      },
      "execution_count": 18,
      "outputs": [
        {
          "output_type": "stream",
          "name": "stdout",
          "text": [
            "--2022-03-31 15:38:13--  http://nlp.stanford.edu/data/glove.6B.zip\n",
            "Resolving nlp.stanford.edu (nlp.stanford.edu)... 171.64.67.140\n",
            "Connecting to nlp.stanford.edu (nlp.stanford.edu)|171.64.67.140|:80... connected.\n",
            "HTTP request sent, awaiting response... 302 Found\n",
            "Location: https://nlp.stanford.edu/data/glove.6B.zip [following]\n",
            "--2022-03-31 15:38:13--  https://nlp.stanford.edu/data/glove.6B.zip\n",
            "Connecting to nlp.stanford.edu (nlp.stanford.edu)|171.64.67.140|:443... connected.\n",
            "HTTP request sent, awaiting response... 301 Moved Permanently\n",
            "Location: http://downloads.cs.stanford.edu/nlp/data/glove.6B.zip [following]\n",
            "--2022-03-31 15:38:13--  http://downloads.cs.stanford.edu/nlp/data/glove.6B.zip\n",
            "Resolving downloads.cs.stanford.edu (downloads.cs.stanford.edu)... 171.64.64.22\n",
            "Connecting to downloads.cs.stanford.edu (downloads.cs.stanford.edu)|171.64.64.22|:80... connected.\n",
            "HTTP request sent, awaiting response... 200 OK\n",
            "Length: 862182613 (822M) [application/zip]\n",
            "Saving to: ‘glove.6B.zip’\n",
            "\n",
            "glove.6B.zip        100%[===================>] 822.24M  5.16MB/s    in 2m 40s  \n",
            "\n",
            "2022-03-31 15:40:53 (5.14 MB/s) - ‘glove.6B.zip’ saved [862182613/862182613]\n",
            "\n"
          ]
        }
      ]
    },
    {
      "cell_type": "code",
      "source": [
        "#!unzip glove*.zip"
      ],
      "metadata": {
        "id": "Udrh4brbJUbp"
      },
      "execution_count": 20,
      "outputs": []
    },
    {
      "cell_type": "code",
      "source": [
        "#GloVe word embeddings\n",
        "\n",
        "embeddings_index = {}\n",
        "with open('/content/glove.6B.200d.txt', encoding='utf8') as f:\n",
        "    for line in f:\n",
        "        values = line.split()\n",
        "        word = values[0]\n",
        "        coefs = np.asarray(values[1:],dtype='float32')\n",
        "        embeddings_index[word] = coefs\n",
        "    f.close()\n",
        "print('Loaded %s word vectors.' % len(embeddings_index))"
      ],
      "metadata": {
        "colab": {
          "base_uri": "https://localhost:8080/"
        },
        "id": "icey2GfzhslN",
        "outputId": "c5e0a612-f19b-4078-cac6-8c03464b7262"
      },
      "execution_count": 21,
      "outputs": [
        {
          "output_type": "stream",
          "name": "stdout",
          "text": [
            "Loaded 400000 word vectors.\n"
          ]
        }
      ]
    },
    {
      "cell_type": "code",
      "source": [
        "#create a embedding weight matrix for words in the dataset\n",
        "embedding_matrix = np.zeros((vocab_size_train, \n",
        "                             200))\n",
        "for word, i in t.word_index.items():\n",
        "\tembedding_vector = embeddings_index.get(word)\n",
        "\tif embedding_vector is not None:\n",
        "\t\tembedding_matrix[i] = embedding_vector\n"
      ],
      "metadata": {
        "id": "R3nls0IGhsoO"
      },
      "execution_count": 22,
      "outputs": []
    },
    {
      "cell_type": "code",
      "source": [
        "#Creating an Embedding layer\n",
        "e = Embedding(vocab_size_train, 200, weights=[embedding_matrix], \n",
        "              input_length=100, trainable=False)\n",
        "\n"
      ],
      "metadata": {
        "id": "RpulsEIMhsrd"
      },
      "execution_count": 23,
      "outputs": []
    },
    {
      "cell_type": "code",
      "source": [
        "#split data into train and validation \n",
        "\n",
        "label = data_train_new['target']\n",
        "X_train,X_val,y_train,y_val= train_test_split(tweets,label, test_size=0.3 )"
      ],
      "metadata": {
        "id": "KwmqfNMHNNMW"
      },
      "execution_count": 24,
      "outputs": []
    },
    {
      "cell_type": "code",
      "source": [
        "# check data \n",
        "print(X_train.shape)\n",
        "print(y_train.shape)\n",
        "print(X_val.shape)\n",
        "print(y_val.shape)"
      ],
      "metadata": {
        "colab": {
          "base_uri": "https://localhost:8080/"
        },
        "id": "p8oR6zKoZA48",
        "outputId": "8c1f2ad5-5fe9-4244-a18b-f80bffdb3f55"
      },
      "execution_count": 138,
      "outputs": [
        {
          "output_type": "stream",
          "name": "stdout",
          "text": [
            "(6090, 100)\n",
            "(6090,)\n",
            "(1523, 100)\n",
            "(1523,)\n"
          ]
        }
      ]
    },
    {
      "cell_type": "code",
      "source": [
        "#!pip install -U keras -tuner\n",
        "!#pip install keras-tuner --upgrade"
      ],
      "metadata": {
        "id": "Z4eXfjT4H9s4"
      },
      "execution_count": 9,
      "outputs": []
    },
    {
      "cell_type": "code",
      "source": [
        "# 2. Modeling\n",
        "\n",
        "#Build a model for tuning hyperparameters \n",
        "#num of neurons\n",
        "#learning rate \n",
        "\n",
        "def build_model(hp):\n",
        "    model = keras.Sequential()\n",
        "    model.add(layers.Dense(units=hp.Int('units_' + str(i),\n",
        "                                            min_value=32,\n",
        "                                            max_value=512,\n",
        "                                            step=32),\n",
        "                               activation='relu'))\n",
        "    model.add(layers.Dense(10, activation='softmax'))\n",
        "    model.compile(\n",
        "        optimizer=keras.optimizers.Adam(\n",
        "            hp.Choice('learning_rate', [1e-2, 1e-3, 1e-4])),\n",
        "        loss='sparse_categorical_crossentropy',\n",
        "        metrics=['accuracy'])\n",
        "    return model\n",
        "\n"
      ],
      "metadata": {
        "id": "ewkCvdrLMkmH"
      },
      "execution_count": 125,
      "outputs": []
    },
    {
      "cell_type": "code",
      "source": [
        "#define tuner\n",
        "tuner = RandomSearch(\n",
        "    build_model,\n",
        "    objective='val_accuracy',\n",
        "    max_trials=5,\n",
        "    executions_per_trial=3,\n",
        "    directory='dir')"
      ],
      "metadata": {
        "id": "yYmvTyDxNJ1J"
      },
      "execution_count": 126,
      "outputs": []
    },
    {
      "cell_type": "code",
      "source": [
        "#summary of searching space\n",
        "tuner.search_space_summary()\n"
      ],
      "metadata": {
        "colab": {
          "base_uri": "https://localhost:8080/"
        },
        "id": "w_-CW5kiOeI9",
        "outputId": "d1f009b2-f6d4-4994-a602-e86226cbb9df"
      },
      "execution_count": 127,
      "outputs": [
        {
          "output_type": "stream",
          "name": "stdout",
          "text": [
            "Search space summary\n",
            "Default search space size: 2\n",
            "units_16700 (Int)\n",
            "{'default': None, 'conditions': [], 'min_value': 32, 'max_value': 512, 'step': 32, 'sampling': None}\n",
            "learning_rate (Choice)\n",
            "{'default': 0.01, 'conditions': [], 'values': [0.01, 0.001, 0.0001], 'ordered': True}\n"
          ]
        }
      ]
    },
    {
      "cell_type": "code",
      "source": [
        "#fit tuner\n",
        "tuner.search(X_train, y_train,\n",
        "             epochs=5,\n",
        "             validation_data=(X_val, y_val))\n"
      ],
      "metadata": {
        "colab": {
          "base_uri": "https://localhost:8080/"
        },
        "id": "9-OI6aj4PMoh",
        "outputId": "dd223a8b-2d5f-40d9-922c-360e71790d4c"
      },
      "execution_count": 128,
      "outputs": [
        {
          "output_type": "stream",
          "name": "stdout",
          "text": [
            "Trial 5 Complete [00h 00m 12s]\n",
            "val_accuracy: 0.5624863306681315\n",
            "\n",
            "Best val_accuracy So Far: 0.5732107758522034\n",
            "Total elapsed time: 00h 01m 04s\n",
            "INFO:tensorflow:Oracle triggered exit\n"
          ]
        }
      ]
    },
    {
      "cell_type": "code",
      "source": [
        "#results summary\n",
        "tuner.results_summary()"
      ],
      "metadata": {
        "colab": {
          "base_uri": "https://localhost:8080/"
        },
        "id": "2j_Za4ksbGkh",
        "outputId": "e97728d9-5ed2-4317-dcc0-159d7d9235ec"
      },
      "execution_count": 129,
      "outputs": [
        {
          "output_type": "stream",
          "name": "stdout",
          "text": [
            "Results summary\n",
            "Results in dir/untitled_project\n",
            "Showing 10 best trials\n",
            "<keras_tuner.engine.objective.Objective object at 0x7fa7d234fb50>\n",
            "Trial summary\n",
            "Hyperparameters:\n",
            "units_16700: 320\n",
            "learning_rate: 0.001\n",
            "Score: 0.5732107758522034\n",
            "Trial summary\n",
            "Hyperparameters:\n",
            "units_16700: 128\n",
            "learning_rate: 0.001\n",
            "Score: 0.5624863306681315\n",
            "Trial summary\n",
            "Hyperparameters:\n",
            "units_16700: 128\n",
            "learning_rate: 0.0001\n",
            "Score: 0.5259356300036112\n",
            "Trial summary\n",
            "Hyperparameters:\n",
            "units_16700: 64\n",
            "learning_rate: 0.0001\n",
            "Score: 0.523965855439504\n",
            "Trial summary\n",
            "Hyperparameters:\n",
            "units_16700: 96\n",
            "learning_rate: 0.0001\n",
            "Score: 0.5202451149622599\n"
          ]
        }
      ]
    },
    {
      "cell_type": "code",
      "source": [
        "# a. Baseline model \n",
        "\n",
        "model_1=Sequential()\n",
        "model_1.add(e)\n",
        "model_1.add(Dense(1, activation = \"sigmoid\"))\n",
        "model_1.compile(optimizer='Adam', loss='binary_crossentropy', metrics=['accuracy'])\n",
        "\n"
      ],
      "metadata": {
        "id": "WXX8T8MUDRQv"
      },
      "execution_count": 25,
      "outputs": []
    },
    {
      "cell_type": "code",
      "source": [
        "history_1= model_1.fit(X_train,y_train,validation_data=(X_val,y_val),\n",
        "                   epochs=20,batch_size=64,verbose=2)"
      ],
      "metadata": {
        "colab": {
          "base_uri": "https://localhost:8080/"
        },
        "id": "0Xo_epPDDg7F",
        "outputId": "69b68345-4ecf-4f2c-d83e-eb211a88f967"
      },
      "execution_count": 162,
      "outputs": [
        {
          "output_type": "stream",
          "name": "stdout",
          "text": [
            "Epoch 1/20\n",
            "96/96 - 1s - loss: 0.6895 - accuracy: 0.5736 - val_loss: 0.6858 - val_accuracy: 0.5809 - 852ms/epoch - 9ms/step\n",
            "Epoch 2/20\n",
            "96/96 - 0s - loss: 0.6839 - accuracy: 0.5775 - val_loss: 0.6819 - val_accuracy: 0.5828 - 304ms/epoch - 3ms/step\n",
            "Epoch 3/20\n",
            "96/96 - 0s - loss: 0.6812 - accuracy: 0.5783 - val_loss: 0.6797 - val_accuracy: 0.5834 - 297ms/epoch - 3ms/step\n",
            "Epoch 4/20\n",
            "96/96 - 0s - loss: 0.6796 - accuracy: 0.5787 - val_loss: 0.6783 - val_accuracy: 0.5838 - 303ms/epoch - 3ms/step\n",
            "Epoch 5/20\n",
            "96/96 - 0s - loss: 0.6787 - accuracy: 0.5788 - val_loss: 0.6775 - val_accuracy: 0.5840 - 317ms/epoch - 3ms/step\n",
            "Epoch 6/20\n",
            "96/96 - 0s - loss: 0.6782 - accuracy: 0.5788 - val_loss: 0.6770 - val_accuracy: 0.5841 - 307ms/epoch - 3ms/step\n",
            "Epoch 7/20\n",
            "96/96 - 0s - loss: 0.6779 - accuracy: 0.5790 - val_loss: 0.6768 - val_accuracy: 0.5841 - 323ms/epoch - 3ms/step\n",
            "Epoch 8/20\n",
            "96/96 - 0s - loss: 0.6777 - accuracy: 0.5789 - val_loss: 0.6765 - val_accuracy: 0.5841 - 312ms/epoch - 3ms/step\n",
            "Epoch 9/20\n",
            "96/96 - 0s - loss: 0.6776 - accuracy: 0.5789 - val_loss: 0.6764 - val_accuracy: 0.5842 - 305ms/epoch - 3ms/step\n",
            "Epoch 10/20\n",
            "96/96 - 0s - loss: 0.6776 - accuracy: 0.5789 - val_loss: 0.6764 - val_accuracy: 0.5843 - 307ms/epoch - 3ms/step\n",
            "Epoch 11/20\n",
            "96/96 - 0s - loss: 0.6775 - accuracy: 0.5790 - val_loss: 0.6763 - val_accuracy: 0.5842 - 291ms/epoch - 3ms/step\n",
            "Epoch 12/20\n",
            "96/96 - 0s - loss: 0.6775 - accuracy: 0.5790 - val_loss: 0.6763 - val_accuracy: 0.5843 - 276ms/epoch - 3ms/step\n",
            "Epoch 13/20\n",
            "96/96 - 0s - loss: 0.6775 - accuracy: 0.5790 - val_loss: 0.6763 - val_accuracy: 0.5843 - 304ms/epoch - 3ms/step\n",
            "Epoch 14/20\n",
            "96/96 - 0s - loss: 0.6775 - accuracy: 0.5791 - val_loss: 0.6763 - val_accuracy: 0.5843 - 297ms/epoch - 3ms/step\n",
            "Epoch 15/20\n",
            "96/96 - 0s - loss: 0.6774 - accuracy: 0.5790 - val_loss: 0.6763 - val_accuracy: 0.5844 - 279ms/epoch - 3ms/step\n",
            "Epoch 16/20\n",
            "96/96 - 0s - loss: 0.6775 - accuracy: 0.5790 - val_loss: 0.6763 - val_accuracy: 0.5842 - 296ms/epoch - 3ms/step\n",
            "Epoch 17/20\n",
            "96/96 - 0s - loss: 0.6774 - accuracy: 0.5790 - val_loss: 0.6762 - val_accuracy: 0.5843 - 298ms/epoch - 3ms/step\n",
            "Epoch 18/20\n",
            "96/96 - 0s - loss: 0.6774 - accuracy: 0.5791 - val_loss: 0.6763 - val_accuracy: 0.5842 - 303ms/epoch - 3ms/step\n",
            "Epoch 19/20\n",
            "96/96 - 0s - loss: 0.6774 - accuracy: 0.5790 - val_loss: 0.6763 - val_accuracy: 0.5842 - 292ms/epoch - 3ms/step\n",
            "Epoch 20/20\n",
            "96/96 - 0s - loss: 0.6774 - accuracy: 0.5791 - val_loss: 0.6762 - val_accuracy: 0.5843 - 306ms/epoch - 3ms/step\n"
          ]
        }
      ]
    },
    {
      "cell_type": "code",
      "source": [
        "# f1 score for baseline model\n",
        "y_pred = model_1.predict(X_val)\n",
        "y_pred_bool = np.argmax(y_pred, axis=1)\n",
        "\n",
        "# Print f1, precision, and recall scores\n",
        "print(f1_score(y_val, y_pred_bool , average=\"macro\"))"
      ],
      "metadata": {
        "colab": {
          "base_uri": "https://localhost:8080/"
        },
        "id": "1yWBPP0tEzDD",
        "outputId": "352434db-24b3-4219-d5b2-f4c2d692db0e"
      },
      "execution_count": 160,
      "outputs": [
        {
          "output_type": "stream",
          "name": "stdout",
          "text": [
            "0.022229108399016866\n"
          ]
        }
      ]
    },
    {
      "cell_type": "code",
      "source": [
        "#Average accuraccy for baseline model\n",
        "mean_acc_baseline = np.mean(history_1.history['accuracy'])\n",
        "print(mean_acc_baseline)"
      ],
      "metadata": {
        "colab": {
          "base_uri": "https://localhost:8080/"
        },
        "id": "_SxNChqPeyrd",
        "outputId": "432ec7d2-c208-470a-cc6f-d23e8e39272e"
      },
      "execution_count": 153,
      "outputs": [
        {
          "output_type": "stream",
          "name": "stdout",
          "text": [
            "0.43070608377456665\n"
          ]
        }
      ]
    },
    {
      "cell_type": "code",
      "source": [
        "#define optimizer and learning rate\n",
        "opt = Adam(learning_rate=0.001)"
      ],
      "metadata": {
        "id": "SeBuVxjVNNQ4"
      },
      "execution_count": 130,
      "outputs": []
    },
    {
      "cell_type": "code",
      "source": [
        "# 2.Modeling \n",
        "\n",
        "# b.LSTM \n",
        "\n",
        "model=Sequential()\n",
        "model.add(e)\n",
        "model.add(LSTM(100, dropout=0.3))\n",
        "model.add(BatchNormalization())\n",
        "model.add(Dense(1, activation = \"sigmoid\"))\n",
        "model.compile(optimizer= opt, loss='binary_crossentropy', metrics=['accuracy'])\n",
        "model.summary()\n"
      ],
      "metadata": {
        "colab": {
          "base_uri": "https://localhost:8080/"
        },
        "id": "61LTOy41NNWV",
        "outputId": "ef71805f-41ea-4c3a-e7f3-35ca82fa9c82"
      },
      "execution_count": 131,
      "outputs": [
        {
          "output_type": "stream",
          "name": "stdout",
          "text": [
            "Model: \"sequential_1\"\n",
            "_________________________________________________________________\n",
            " Layer (type)                Output Shape              Param #   \n",
            "=================================================================\n",
            " embedding (Embedding)       (None, 100, 200)          3340200   \n",
            "                                                                 \n",
            " lstm (LSTM)                 (None, 320)               666880    \n",
            "                                                                 \n",
            " batch_normalization (BatchN  (None, 320)              1280      \n",
            " ormalization)                                                   \n",
            "                                                                 \n",
            " dense_2 (Dense)             (None, 1)                 321       \n",
            "                                                                 \n",
            "=================================================================\n",
            "Total params: 4,008,681\n",
            "Trainable params: 667,841\n",
            "Non-trainable params: 3,340,840\n",
            "_________________________________________________________________\n"
          ]
        }
      ]
    },
    {
      "cell_type": "code",
      "source": [
        "history= model.fit(X_train,y_train,validation_data=(X_val,y_val),\n",
        "                   epochs=20,batch_size=64,verbose=2)\n"
      ],
      "metadata": {
        "colab": {
          "base_uri": "https://localhost:8080/"
        },
        "id": "2X9cUPswRjSb",
        "outputId": "22577fa1-78ab-4831-b3bd-46277bccd7c3"
      },
      "execution_count": 152,
      "outputs": [
        {
          "output_type": "stream",
          "name": "stdout",
          "text": [
            "Epoch 1/20\n",
            "96/96 - 35s - loss: 0.6863 - accuracy: 0.5645 - val_loss: 0.6805 - val_accuracy: 0.5811 - 35s/epoch - 364ms/step\n",
            "Epoch 2/20\n",
            "96/96 - 31s - loss: 0.5711 - accuracy: 0.7190 - val_loss: 0.5366 - val_accuracy: 0.7984 - 31s/epoch - 326ms/step\n",
            "Epoch 3/20\n",
            "96/96 - 32s - loss: 0.4752 - accuracy: 0.7938 - val_loss: 0.6248 - val_accuracy: 0.5883 - 32s/epoch - 331ms/step\n",
            "Epoch 4/20\n",
            "96/96 - 31s - loss: 0.4547 - accuracy: 0.8036 - val_loss: 0.4569 - val_accuracy: 0.7951 - 31s/epoch - 324ms/step\n",
            "Epoch 5/20\n",
            "96/96 - 32s - loss: 0.4424 - accuracy: 0.8089 - val_loss: 0.4339 - val_accuracy: 0.8083 - 32s/epoch - 328ms/step\n",
            "Epoch 6/20\n",
            "96/96 - 31s - loss: 0.4407 - accuracy: 0.8033 - val_loss: 0.6156 - val_accuracy: 0.8030 - 31s/epoch - 327ms/step\n",
            "Epoch 7/20\n",
            "96/96 - 31s - loss: 0.4267 - accuracy: 0.8177 - val_loss: 0.4253 - val_accuracy: 0.8096 - 31s/epoch - 325ms/step\n",
            "Epoch 8/20\n",
            "96/96 - 31s - loss: 0.4160 - accuracy: 0.8172 - val_loss: 0.7712 - val_accuracy: 0.8063 - 31s/epoch - 325ms/step\n",
            "Epoch 9/20\n",
            "96/96 - 31s - loss: 0.4096 - accuracy: 0.8205 - val_loss: 0.5238 - val_accuracy: 0.8102 - 31s/epoch - 324ms/step\n",
            "Epoch 10/20\n",
            "96/96 - 31s - loss: 0.3952 - accuracy: 0.8294 - val_loss: 0.4620 - val_accuracy: 0.8063 - 31s/epoch - 326ms/step\n",
            "Epoch 11/20\n",
            "96/96 - 32s - loss: 0.3791 - accuracy: 0.8424 - val_loss: 0.5194 - val_accuracy: 0.8017 - 32s/epoch - 332ms/step\n",
            "Epoch 12/20\n",
            "96/96 - 40s - loss: 0.3782 - accuracy: 0.8414 - val_loss: 0.4434 - val_accuracy: 0.7951 - 40s/epoch - 414ms/step\n",
            "Epoch 13/20\n",
            "96/96 - 32s - loss: 0.3729 - accuracy: 0.8419 - val_loss: 0.4423 - val_accuracy: 0.8004 - 32s/epoch - 336ms/step\n",
            "Epoch 14/20\n",
            "96/96 - 34s - loss: 0.3487 - accuracy: 0.8606 - val_loss: 0.4723 - val_accuracy: 0.7997 - 34s/epoch - 359ms/step\n",
            "Epoch 15/20\n",
            "96/96 - 37s - loss: 0.3390 - accuracy: 0.8622 - val_loss: 0.4457 - val_accuracy: 0.8050 - 37s/epoch - 387ms/step\n",
            "Epoch 16/20\n",
            "96/96 - 32s - loss: 0.3400 - accuracy: 0.8634 - val_loss: 0.5284 - val_accuracy: 0.7905 - 32s/epoch - 331ms/step\n",
            "Epoch 17/20\n",
            "96/96 - 32s - loss: 0.4267 - accuracy: 0.8314 - val_loss: 0.4475 - val_accuracy: 0.8227 - 32s/epoch - 329ms/step\n",
            "Epoch 18/20\n",
            "96/96 - 33s - loss: 0.3390 - accuracy: 0.8624 - val_loss: 0.5886 - val_accuracy: 0.7800 - 33s/epoch - 339ms/step\n",
            "Epoch 19/20\n",
            "96/96 - 32s - loss: 0.3105 - accuracy: 0.8847 - val_loss: 0.5620 - val_accuracy: 0.8083 - 32s/epoch - 329ms/step\n",
            "Epoch 20/20\n",
            "96/96 - 32s - loss: 0.3018 - accuracy: 0.8852 - val_loss: 0.6143 - val_accuracy: 0.8024 - 32s/epoch - 332ms/step\n"
          ]
        }
      ]
    },
    {
      "cell_type": "code",
      "source": [
        "#plot train and validation accuracy \n",
        "plt.plot(history.history['accuracy'], label='train accuracy')\n",
        "plt.plot(history.history['val_accuracy'], label='validation accuracy')\n",
        "plt.title('Training history')\n",
        "plt.ylabel('Accuracy')\n",
        "plt.xlabel('Epoch')\n",
        "plt.legend()\n",
        "plt.ylim([0, 1])\n"
      ],
      "metadata": {
        "colab": {
          "base_uri": "https://localhost:8080/",
          "height": 313
        },
        "id": "YkPHco8jK7L1",
        "outputId": "a4a8fd1a-8cff-4a7a-922f-f89bd49c655e"
      },
      "execution_count": 157,
      "outputs": [
        {
          "output_type": "execute_result",
          "data": {
            "text/plain": [
              "(0.0, 1.0)"
            ]
          },
          "metadata": {},
          "execution_count": 157
        },
        {
          "output_type": "display_data",
          "data": {
            "text/plain": [
              "<Figure size 432x288 with 1 Axes>"
            ],
            "image/png": "[encoded data removed]"
          },
          "metadata": {
            "needs_background": "light"
          }
        }
      ]
    },
    {
      "cell_type": "code",
      "source": [
        "# f1 score for LSTM\n",
        "y_pred = model.predict(X_val)\n",
        "y_pred_bool = np.argmax(y_pred, axis=1)\n",
        "\n",
        "print(f1_score(y_val, y_pred_bool, average=\"macro\"))"
      ],
      "metadata": {
        "colab": {
          "base_uri": "https://localhost:8080/"
        },
        "id": "_0EqHKaTowEC",
        "outputId": "7b330415-6a0c-4250-95f0-99a4aa3bded5"
      },
      "execution_count": 168,
      "outputs": [
        {
          "output_type": "stream",
          "name": "stdout",
          "text": [
            "0.36488740617180987\n"
          ]
        }
      ]
    },
    {
      "cell_type": "code",
      "source": [
        "#avereage accuracy for LSTM\n",
        "mean_acc_LSTM = np.mean(history.history['accuracy'])\n",
        "print(mean_acc_LSTM)"
      ],
      "metadata": {
        "colab": {
          "base_uri": "https://localhost:8080/"
        },
        "id": "deFwlJFoghCw",
        "outputId": "f66a4585-3d22-4af7-b059-e2ea32705b2d"
      },
      "execution_count": 160,
      "outputs": [
        {
          "output_type": "stream",
          "name": "stdout",
          "text": [
            "0.8176765143871307\n"
          ]
        }
      ]
    },
    {
      "cell_type": "code",
      "source": [
        " # c. Bidirectional LSTM    \n",
        "\n",
        "model_2=Sequential()\n",
        "model_2.add(e)\n",
        "model_2.add(Bidirectional(LSTM(100, dropout=0.3, recurrent_dropout=0.3)))\n",
        "model_2.add(BatchNormalization())\n",
        "model_2.add(Dense(1, activation = \"sigmoid\"))\n",
        "model_2.compile(optimizer= 'adam', loss='binary_crossentropy', metrics=['accuracy'])\n",
        "model_2.summary()\n"
      ],
      "metadata": {
        "colab": {
          "base_uri": "https://localhost:8080/"
        },
        "id": "Vr5-XW_kwRvo",
        "outputId": "45a2876f-85b9-4d26-d0fc-da4672638a24"
      },
      "execution_count": 166,
      "outputs": [
        {
          "output_type": "stream",
          "name": "stdout",
          "text": [
            "WARNING:tensorflow:Layer lstm will not use cuDNN kernels since it doesn't meet the criteria. It will use a generic GPU kernel as fallback when running on GPU.\n",
            "WARNING:tensorflow:Layer lstm will not use cuDNN kernels since it doesn't meet the criteria. It will use a generic GPU kernel as fallback when running on GPU.\n",
            "WARNING:tensorflow:Layer lstm will not use cuDNN kernels since it doesn't meet the criteria. It will use a generic GPU kernel as fallback when running on GPU.\n",
            "Model: \"sequential_10\"\n",
            "_________________________________________________________________\n",
            " Layer (type)                Output Shape              Param #   \n",
            "=================================================================\n",
            " embedding (Embedding)       (None, 100, 200)          3340200   \n",
            "                                                                 \n",
            " bidirectional (Bidirectiona  (None, 200)              240800    \n",
            " l)                                                              \n",
            "                                                                 \n",
            " batch_normalization (BatchN  (None, 200)              800       \n",
            " ormalization)                                                   \n",
            "                                                                 \n",
            " dense_11 (Dense)            (None, 1)                 201       \n",
            "                                                                 \n",
            "=================================================================\n",
            "Total params: 3,582,001\n",
            "Trainable params: 241,401\n",
            "Non-trainable params: 3,340,600\n",
            "_________________________________________________________________\n"
          ]
        }
      ]
    },
    {
      "cell_type": "code",
      "source": [
        "history_2= model_2.fit(X_train,y_train,validation_data=(X_val,y_val),\n",
        "                   epochs=20,batch_size=64,verbose=2)"
      ],
      "metadata": {
        "colab": {
          "base_uri": "https://localhost:8080/"
        },
        "id": "jyQrQFkzwRyi",
        "outputId": "67be49b6-97ac-48c9-bb46-7e40c5451847"
      },
      "execution_count": 169,
      "outputs": [
        {
          "output_type": "stream",
          "name": "stdout",
          "text": [
            "Epoch 1/20\n",
            "96/96 - 68s - loss: 0.4971 - accuracy: 0.7644 - val_loss: 0.5236 - val_accuracy: 0.7886 - 68s/epoch - 705ms/step\n",
            "Epoch 2/20\n",
            "96/96 - 64s - loss: 0.4398 - accuracy: 0.7997 - val_loss: 0.4963 - val_accuracy: 0.8050 - 64s/epoch - 664ms/step\n",
            "Epoch 3/20\n",
            "96/96 - 63s - loss: 0.4150 - accuracy: 0.8146 - val_loss: 0.4476 - val_accuracy: 0.8116 - 63s/epoch - 653ms/step\n",
            "Epoch 4/20\n",
            "96/96 - 63s - loss: 0.3992 - accuracy: 0.8297 - val_loss: 0.4365 - val_accuracy: 0.8076 - 63s/epoch - 652ms/step\n",
            "Epoch 5/20\n",
            "96/96 - 63s - loss: 0.3805 - accuracy: 0.8320 - val_loss: 0.4217 - val_accuracy: 0.8109 - 63s/epoch - 653ms/step\n",
            "Epoch 6/20\n",
            "96/96 - 63s - loss: 0.3608 - accuracy: 0.8453 - val_loss: 0.4316 - val_accuracy: 0.8050 - 63s/epoch - 654ms/step\n",
            "Epoch 7/20\n",
            "96/96 - 63s - loss: 0.3432 - accuracy: 0.8544 - val_loss: 0.4392 - val_accuracy: 0.8135 - 63s/epoch - 654ms/step\n",
            "Epoch 8/20\n",
            "96/96 - 62s - loss: 0.3332 - accuracy: 0.8527 - val_loss: 0.4542 - val_accuracy: 0.8109 - 62s/epoch - 651ms/step\n",
            "Epoch 9/20\n",
            "96/96 - 63s - loss: 0.3096 - accuracy: 0.8742 - val_loss: 0.4590 - val_accuracy: 0.8135 - 63s/epoch - 656ms/step\n",
            "Epoch 10/20\n",
            "96/96 - 63s - loss: 0.2896 - accuracy: 0.8821 - val_loss: 0.4763 - val_accuracy: 0.7945 - 63s/epoch - 651ms/step\n",
            "Epoch 11/20\n",
            "96/96 - 62s - loss: 0.2777 - accuracy: 0.8870 - val_loss: 0.4795 - val_accuracy: 0.8043 - 62s/epoch - 650ms/step\n",
            "Epoch 12/20\n",
            "96/96 - 62s - loss: 0.2569 - accuracy: 0.8997 - val_loss: 0.5228 - val_accuracy: 0.8096 - 62s/epoch - 651ms/step\n",
            "Epoch 13/20\n",
            "96/96 - 62s - loss: 0.2407 - accuracy: 0.9054 - val_loss: 0.5148 - val_accuracy: 0.7991 - 62s/epoch - 650ms/step\n",
            "Epoch 14/20\n",
            "96/96 - 63s - loss: 0.2334 - accuracy: 0.9080 - val_loss: 0.5131 - val_accuracy: 0.7945 - 63s/epoch - 658ms/step\n",
            "Epoch 15/20\n",
            "96/96 - 68s - loss: 0.2154 - accuracy: 0.9123 - val_loss: 0.5309 - val_accuracy: 0.7912 - 68s/epoch - 711ms/step\n",
            "Epoch 16/20\n",
            "96/96 - 62s - loss: 0.2011 - accuracy: 0.9228 - val_loss: 0.5643 - val_accuracy: 0.8043 - 62s/epoch - 650ms/step\n",
            "Epoch 17/20\n",
            "96/96 - 63s - loss: 0.1966 - accuracy: 0.9245 - val_loss: 0.5731 - val_accuracy: 0.8037 - 63s/epoch - 653ms/step\n",
            "Epoch 18/20\n",
            "96/96 - 65s - loss: 0.1819 - accuracy: 0.9289 - val_loss: 0.5989 - val_accuracy: 0.7945 - 65s/epoch - 675ms/step\n",
            "Epoch 19/20\n",
            "96/96 - 63s - loss: 0.1779 - accuracy: 0.9333 - val_loss: 0.6062 - val_accuracy: 0.7945 - 63s/epoch - 654ms/step\n",
            "Epoch 20/20\n",
            "96/96 - 62s - loss: 0.1573 - accuracy: 0.9417 - val_loss: 0.6042 - val_accuracy: 0.8024 - 62s/epoch - 647ms/step\n"
          ]
        }
      ]
    },
    {
      "cell_type": "code",
      "source": [
        "#train and val acc for BiLSTM\n",
        "plt.plot(history_2.history['accuracy'], label='train accuracy')\n",
        "plt.plot(history_2.history['val_accuracy'], label='validation accuracy')\n",
        "plt.title('Training history')\n",
        "plt.ylabel('Accuracy')\n",
        "plt.xlabel('Epoch')\n",
        "plt.legend()\n",
        "plt.ylim([0, 1])"
      ],
      "metadata": {
        "colab": {
          "base_uri": "https://localhost:8080/",
          "height": 313
        },
        "id": "baYwInrewR05",
        "outputId": "bdf4e558-d934-42c2-f4a3-8fcc1e64f8c7"
      },
      "execution_count": 170,
      "outputs": [
        {
          "output_type": "execute_result",
          "data": {
            "text/plain": [
              "(0.0, 1.0)"
            ]
          },
          "metadata": {},
          "execution_count": 170
        },
        {
          "output_type": "display_data",
          "data": {
            "text/plain": [
              "<Figure size 432x288 with 1 Axes>"
            ],
            "image/png": "[encoded data removed]"
          },
          "metadata": {
            "needs_background": "light"
          }
        }
      ]
    },
    {
      "cell_type": "code",
      "source": [
        "# f1 score for BiLSTM\n",
        "y_pred = model_2.predict(X_val)\n",
        "y_pred_bool = np.argmax(y_pred, axis=1)\n",
        "\n",
        "print(f1_score(y_val, y_pred_bool, average=\"macro\" ))"
      ],
      "metadata": {
        "colab": {
          "base_uri": "https://localhost:8080/"
        },
        "id": "Yq1RlEPbI6nv",
        "outputId": "98e3cf8d-840d-4c4c-b4ff-866a178c0195"
      },
      "execution_count": 169,
      "outputs": [
        {
          "output_type": "stream",
          "name": "stdout",
          "text": [
            "0.41927311937010325\n"
          ]
        }
      ]
    },
    {
      "cell_type": "code",
      "source": [
        "# average acc for BiLSTM\n",
        "mean_acc_BiLSTM = np.mean(history_2.history['accuracy'])\n",
        "print(mean_acc_BiLSTM)"
      ],
      "metadata": {
        "id": "YW4LbjVFYVAH",
        "colab": {
          "base_uri": "https://localhost:8080/"
        },
        "outputId": "dec03928-df0b-432d-ec19-995b2282b8af"
      },
      "execution_count": 173,
      "outputs": [
        {
          "output_type": "stream",
          "name": "stdout",
          "text": [
            "0.8756403923034668\n"
          ]
        }
      ]
    },
    {
      "cell_type": "code",
      "source": [
        "#d.CNN\n",
        "\n",
        "model_3 = Sequential()\n",
        "model_3.add(e)\n",
        "model_3.add(Conv1D(filters=32, kernel_size=4, activation='relu'))\n",
        "model_3.add(Dropout(0.3))\n",
        "model_3.add(MaxPooling1D(pool_size=2))\n",
        "model_3.add(Flatten())\n",
        "model_3.add(Dense(10, activation='relu'))\n",
        "model_3.add(Dense(1, activation='sigmoid'))\n",
        "model_3.compile(loss='binary_crossentropy', optimizer=opt, metrics=['accuracy'])\n",
        "model_3.summary()"
      ],
      "metadata": {
        "id": "0nCe68hRK8QD",
        "colab": {
          "base_uri": "https://localhost:8080/"
        },
        "outputId": "3a92ce8a-0102-4868-fad6-8a91f9f45f86"
      },
      "execution_count": 202,
      "outputs": [
        {
          "output_type": "stream",
          "name": "stdout",
          "text": [
            "Model: \"sequential_40\"\n",
            "_________________________________________________________________\n",
            " Layer (type)                Output Shape              Param #   \n",
            "=================================================================\n",
            " embedding_2 (Embedding)     (None, 100, 200)          3340200   \n",
            "                                                                 \n",
            " conv1d_8 (Conv1D)           (None, 97, 32)            25632     \n",
            "                                                                 \n",
            " dropout_8 (Dropout)         (None, 97, 32)            0         \n",
            "                                                                 \n",
            " max_pooling1d_8 (MaxPooling  (None, 32, 32)           0         \n",
            " 1D)                                                             \n",
            "                                                                 \n",
            " flatten_8 (Flatten)         (None, 1024)              0         \n",
            "                                                                 \n",
            " dense_48 (Dense)            (None, 10)                10250     \n",
            "                                                                 \n",
            " dense_49 (Dense)            (None, 1)                 11        \n",
            "                                                                 \n",
            "=================================================================\n",
            "Total params: 3,376,093\n",
            "Trainable params: 35,893\n",
            "Non-trainable params: 3,340,200\n",
            "_________________________________________________________________\n"
          ]
        }
      ]
    },
    {
      "cell_type": "code",
      "source": [
        "history_3= model_3.fit(X_train,y_train,validation_data=(X_val,y_val),\n",
        "                   epochs=20,batch_size=64,verbose=2)"
      ],
      "metadata": {
        "id": "lNbGb0SGK8Ss",
        "colab": {
          "base_uri": "https://localhost:8080/"
        },
        "outputId": "a6e318d2-ddfd-4513-cc36-44026c549fbd"
      },
      "execution_count": 203,
      "outputs": [
        {
          "output_type": "stream",
          "name": "stdout",
          "text": [
            "Epoch 1/20\n",
            "96/96 - 1s - loss: 0.4936 - accuracy: 0.7704 - val_loss: 0.4338 - val_accuracy: 0.8116 - 964ms/epoch - 10ms/step\n",
            "Epoch 2/20\n",
            "96/96 - 0s - loss: 0.3925 - accuracy: 0.8322 - val_loss: 0.4393 - val_accuracy: 0.8109 - 318ms/epoch - 3ms/step\n",
            "Epoch 3/20\n",
            "96/96 - 0s - loss: 0.3348 - accuracy: 0.8580 - val_loss: 0.4522 - val_accuracy: 0.7951 - 315ms/epoch - 3ms/step\n",
            "Epoch 4/20\n",
            "96/96 - 0s - loss: 0.2791 - accuracy: 0.8877 - val_loss: 0.4878 - val_accuracy: 0.7991 - 335ms/epoch - 3ms/step\n",
            "Epoch 5/20\n",
            "96/96 - 0s - loss: 0.2328 - accuracy: 0.9080 - val_loss: 0.5186 - val_accuracy: 0.7853 - 314ms/epoch - 3ms/step\n",
            "Epoch 6/20\n",
            "96/96 - 0s - loss: 0.1915 - accuracy: 0.9291 - val_loss: 0.5670 - val_accuracy: 0.7853 - 344ms/epoch - 4ms/step\n",
            "Epoch 7/20\n",
            "96/96 - 0s - loss: 0.1780 - accuracy: 0.9345 - val_loss: 0.5859 - val_accuracy: 0.7912 - 328ms/epoch - 3ms/step\n",
            "Epoch 8/20\n",
            "96/96 - 0s - loss: 0.1562 - accuracy: 0.9427 - val_loss: 0.6410 - val_accuracy: 0.7873 - 305ms/epoch - 3ms/step\n",
            "Epoch 9/20\n",
            "96/96 - 0s - loss: 0.1380 - accuracy: 0.9494 - val_loss: 0.6687 - val_accuracy: 0.7965 - 328ms/epoch - 3ms/step\n",
            "Epoch 10/20\n",
            "96/96 - 0s - loss: 0.1258 - accuracy: 0.9539 - val_loss: 0.6898 - val_accuracy: 0.7859 - 301ms/epoch - 3ms/step\n",
            "Epoch 11/20\n",
            "96/96 - 0s - loss: 0.1177 - accuracy: 0.9580 - val_loss: 0.6988 - val_accuracy: 0.7689 - 308ms/epoch - 3ms/step\n",
            "Epoch 12/20\n",
            "96/96 - 0s - loss: 0.1022 - accuracy: 0.9640 - val_loss: 0.7496 - val_accuracy: 0.7768 - 303ms/epoch - 3ms/step\n",
            "Epoch 13/20\n",
            "96/96 - 0s - loss: 0.1031 - accuracy: 0.9624 - val_loss: 0.8009 - val_accuracy: 0.7886 - 315ms/epoch - 3ms/step\n",
            "Epoch 14/20\n",
            "96/96 - 0s - loss: 0.0985 - accuracy: 0.9649 - val_loss: 0.7726 - val_accuracy: 0.7748 - 307ms/epoch - 3ms/step\n",
            "Epoch 15/20\n",
            "96/96 - 0s - loss: 0.0958 - accuracy: 0.9662 - val_loss: 0.8430 - val_accuracy: 0.7978 - 306ms/epoch - 3ms/step\n",
            "Epoch 16/20\n",
            "96/96 - 0s - loss: 0.0921 - accuracy: 0.9650 - val_loss: 0.8100 - val_accuracy: 0.7748 - 332ms/epoch - 3ms/step\n",
            "Epoch 17/20\n",
            "96/96 - 0s - loss: 0.0831 - accuracy: 0.9675 - val_loss: 0.9253 - val_accuracy: 0.7859 - 306ms/epoch - 3ms/step\n",
            "Epoch 18/20\n",
            "96/96 - 0s - loss: 0.0833 - accuracy: 0.9700 - val_loss: 0.8464 - val_accuracy: 0.7807 - 327ms/epoch - 3ms/step\n",
            "Epoch 19/20\n",
            "96/96 - 0s - loss: 0.0835 - accuracy: 0.9696 - val_loss: 0.8737 - val_accuracy: 0.7846 - 344ms/epoch - 4ms/step\n",
            "Epoch 20/20\n",
            "96/96 - 0s - loss: 0.0746 - accuracy: 0.9726 - val_loss: 0.9076 - val_accuracy: 0.7899 - 308ms/epoch - 3ms/step\n"
          ]
        }
      ]
    },
    {
      "cell_type": "code",
      "source": [
        "#plot tarin and val acc\n",
        "plt.plot(history_3.history['accuracy'], label='train accuracy')\n",
        "plt.plot(history_3.history['val_accuracy'], label='validation accuracy')\n",
        "plt.title('Training history')\n",
        "plt.ylabel('Accuracy')\n",
        "plt.xlabel('Epoch')\n",
        "plt.legend()\n",
        "plt.ylim([0, 1])"
      ],
      "metadata": {
        "id": "5pbrQR2oK8Vr",
        "colab": {
          "base_uri": "https://localhost:8080/",
          "height": 313
        },
        "outputId": "7f6b8d49-486d-4218-908c-868bbee77471"
      },
      "execution_count": 204,
      "outputs": [
        {
          "output_type": "execute_result",
          "data": {
            "text/plain": [
              "(0.0, 1.0)"
            ]
          },
          "metadata": {},
          "execution_count": 204
        },
        {
          "output_type": "display_data",
          "data": {
            "text/plain": [
              "<Figure size 432x288 with 1 Axes>"
            ],
            "image/png": "[encoded data removed]"
          },
          "metadata": {
            "needs_background": "light"
          }
        }
      ]
    },
    {
      "cell_type": "code",
      "source": [
        "#f1 score for CNN\n",
        "y_pred = model_3.predict(X_val)\n",
        "y_pred_bool = np.argmax(y_pred, axis=1)\n",
        "\n",
        "\n",
        "print(f1_score(y_val, y_pred_bool, average=\"micro\" ))"
      ],
      "metadata": {
        "id": "aiUQjH5hK8bL",
        "colab": {
          "base_uri": "https://localhost:8080/"
        },
        "outputId": "1951a98a-a4cf-4268-e671-42513ba9f4ce"
      },
      "execution_count": 215,
      "outputs": [
        {
          "output_type": "stream",
          "name": "stdout",
          "text": [
            "0.5810899540380827\n"
          ]
        }
      ]
    },
    {
      "cell_type": "code",
      "source": [
        "#Average acc of CNN\n",
        "mean_acc_CNN= np.mean(history_3.history['accuracy'])\n",
        "print(mean_acc_CNN)"
      ],
      "metadata": {
        "id": "Fy1trX9zXdEk",
        "colab": {
          "base_uri": "https://localhost:8080/"
        },
        "outputId": "b018d38c-8af4-479b-dd1d-5865ab66a005"
      },
      "execution_count": 207,
      "outputs": [
        {
          "output_type": "stream",
          "name": "stdout",
          "text": [
            "0.9312972038984298\n"
          ]
        }
      ]
    },
    {
      "cell_type": "code",
      "source": [
        ""
      ],
      "metadata": {
        "id": "tPK2FbRXhyKX"
      },
      "execution_count": null,
      "outputs": []
    }
  ],
  "metadata": {
    "kernelspec": {
      "display_name": "Python 3",
      "language": "python",
      "name": "python3"
    },
    "language_info": {
      "codemirror_mode": {
        "name": "ipython",
        "version": 3
      },
      "file_extension": ".py",
      "mimetype": "text/x-python",
      "name": "python",
      "nbconvert_exporter": "python",
      "pygments_lexer": "ipython3",
      "version": "3.8.3"
    },
    "colab": {
      "name": "IDA&ML2_finalproj_Constien.ipynb",
      "provenance": []
    },
    "accelerator": "GPU"
  },
  "nbformat": 4,
  "nbformat_minor": 0
}